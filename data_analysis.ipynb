{
 "cells": [
  {
   "cell_type": "markdown",
   "id": "087e6882-0ce2-4883-b1b9-f9cbf0bf2d4f",
   "metadata": {},
   "source": [
    "<a id=\"top-of-da\"></a>\n",
    "\n",
    "# Data Analysis\n",
    "\n",
    "Now we will work with real data to apply the concepts presented in the previous notebooks. Some things to keep in mind as we work through these examples:\n",
    "- Real data is messy. It almost always will need to be cleaned up before analysis.\n",
    "- You should explore your data to get a high-level understanding of what you're working with. This will help you explain results, identify errors in your code or analysis, and further your understanding of the data.\n",
    "- A notebook is a great place to experiment with your analysis and try out new approaches. As you refine your analysis methods and decide on the best approach, clean up your notebook to include only the necessary steps. A clean analysis notebook can serve as documentation of your methods for yourself, your research group, and peers in your discipline if you decide to publish.\n",
    "\n",
    "With the above in mind, this notebook will cover these topics:\n",
    "1. [Cleaning up your data](#load-clean-data)\n",
    "2. [Exploring and understanding your data](#explore-data)\n",
    "3. [Analyzing your data](#analyze-data)\n",
    "\n",
    "Exercises<br>\n",
    "[Exercise 1](#exercise1-da)<br>\n",
    "[Exercise 2](#exercise2-da)<br>\n",
    "[Exercise 3](#exercise3-da)<br>\n",
    "[Exercise 4](#exercise4-da)<br>\n",
    "[Exercise 5](#exercise5-da)"
   ]
  },
  {
   "cell_type": "markdown",
   "id": "61fc2e03-0659-4909-830e-6af6af0b750e",
   "metadata": {},
   "source": [
    "# 0. Download data\n",
    "\n",
    "Before we begin cleaning our data, we need data to work with! Let's download data from surface weather stations across the United States. Run the following cell to download one file with data from over 500 stations over the course of one day.\n",
    "\n",
    "This file is about 35 MB, so it may take 30-60 seconds to download."
   ]
  },
  {
   "cell_type": "code",
   "execution_count": null,
   "id": "4c600983-61bc-4d70-934d-af2f643a3352",
   "metadata": {},
   "outputs": [],
   "source": [
    "!mkdir data\n",
    "!python download_data.py"
   ]
  },
  {
   "cell_type": "markdown",
   "id": "2097c3e5-89f2-4508-bb22-9fa649e736b2",
   "metadata": {},
   "source": [
    "[Return to top of notebook](#top-of-da)<br>\n",
    "***\n",
    "<a id=\"load-clean-data\"></a>\n",
    "\n",
    "# 1. Cleaning up your data\n",
    "\n",
    "Let's load our data, organize it, and clean it up. The first thing we need to figure out is how to properly parse this file. The data is tabular, but contains a few lines of comments before the data."
   ]
  },
  {
   "cell_type": "code",
   "execution_count": null,
   "id": "69f73e53-805e-4645-aab5-16615ba7167d",
   "metadata": {},
   "outputs": [],
   "source": [
    "import pandas as pd"
   ]
  },
  {
   "cell_type": "code",
   "execution_count": null,
   "id": "34a7be43-7999-4d23-aec8-92b86d047242",
   "metadata": {},
   "outputs": [],
   "source": [
    "raw_data = open(\"data/20120801.txt\").readlines()"
   ]
  },
  {
   "cell_type": "code",
   "execution_count": null,
   "id": "35deeb72-f72b-4621-bafb-138c9444ba63",
   "metadata": {},
   "outputs": [],
   "source": [
    "raw_data[:10]"
   ]
  },
  {
   "cell_type": "markdown",
   "id": "a6f348b9-eb73-4229-b08f-d3f60d896cc8",
   "metadata": {},
   "source": [
    "There are a couple ways we can handle this. We can just skip reading those lines using the `skiprows` keyword."
   ]
  },
  {
   "cell_type": "code",
   "execution_count": null,
   "id": "3b16656c-3b38-4d07-80fe-e84ae83b8039",
   "metadata": {},
   "outputs": [],
   "source": [
    "df = pd.read_csv(\"data/20120801.txt\", skiprows=5)"
   ]
  },
  {
   "cell_type": "markdown",
   "id": "1d208685-f532-48eb-8194-f81ce011babb",
   "metadata": {},
   "source": [
    "Alternatively, since we know these lines are comments, we can use the `comment` keyword and pass it `\"#\"`."
   ]
  },
  {
   "cell_type": "code",
   "execution_count": null,
   "id": "c18186d1-b706-478c-86ac-da819d52b960",
   "metadata": {},
   "outputs": [],
   "source": [
    "df = pd.read_csv(\"data/20120801.txt\", comment=\"#\")"
   ]
  },
  {
   "cell_type": "markdown",
   "id": "a5ee08cd-8153-451b-9583-cb036a8f6604",
   "metadata": {},
   "source": [
    "We can refine how our dataframe is structured when we open it. First, let's select an index column."
   ]
  },
  {
   "cell_type": "code",
   "execution_count": null,
   "id": "6c91f5bd-2b28-458d-b961-01fe5c572847",
   "metadata": {},
   "outputs": [],
   "source": [
    "df = pd.read_csv(\"data/20120801.txt\", comment=\"#\", index_col=\"valid\")"
   ]
  },
  {
   "cell_type": "code",
   "execution_count": null,
   "id": "d25aa30c-4ba2-4209-b443-c0d164795fbc",
   "metadata": {},
   "outputs": [],
   "source": [
    "df.head(5)"
   ]
  },
  {
   "cell_type": "markdown",
   "id": "acac1928-3c9f-492a-b795-02003d960f45",
   "metadata": {},
   "source": [
    "Since these are timestamps, `pandas` can parse them so that we can operate on them later."
   ]
  },
  {
   "cell_type": "code",
   "execution_count": null,
   "id": "e1b90b4d-b8f6-495c-b970-f6d604b8f0e8",
   "metadata": {},
   "outputs": [],
   "source": [
    "df = pd.read_csv(\"data/20120801.txt\", comment=\"#\", index_col=\"valid\", parse_dates=True)"
   ]
  },
  {
   "cell_type": "code",
   "execution_count": null,
   "id": "b1b03e4d-b0f2-4d07-8443-a7a0211d0958",
   "metadata": {},
   "outputs": [],
   "source": [
    "df.head(5)"
   ]
  },
  {
   "cell_type": "code",
   "execution_count": null,
   "id": "bd7a4444-6783-4f95-a745-eaf912a61959",
   "metadata": {},
   "outputs": [],
   "source": [
    "df.index"
   ]
  },
  {
   "cell_type": "markdown",
   "id": "3f2da1a9-0b3b-4efd-8468-c959ac48938d",
   "metadata": {},
   "source": [
    "Next, we only want some of these columns for our analysis. We can tell `pandas` which columns we want when we load the data"
   ]
  },
  {
   "cell_type": "code",
   "execution_count": null,
   "id": "8652d3e1-ee5f-4ba3-8e4d-73a911bd3bb7",
   "metadata": {},
   "outputs": [],
   "source": [
    "df.columns"
   ]
  },
  {
   "cell_type": "code",
   "execution_count": null,
   "id": "b86e7015-5ecf-4019-8e6f-530b37b2adf5",
   "metadata": {},
   "outputs": [],
   "source": [
    "usecols = [\n",
    "    \"valid\", \"station\", \"lon\", \"lat\", \"tmpf\", \"dwpf\", \"relh\", \"drct\", \"mslp\", \"gust\", \"p01i\"\n",
    "]\n",
    "df = pd.read_csv(\"data/20120801.txt\", comment=\"#\", index_col=\"valid\", parse_dates=True, usecols=usecols)"
   ]
  },
  {
   "cell_type": "code",
   "execution_count": null,
   "id": "4a12d988-8fb9-4697-be19-bf1bd6ce8e84",
   "metadata": {},
   "outputs": [],
   "source": [
    "df"
   ]
  },
  {
   "cell_type": "markdown",
   "id": "915a7b79-d8ce-4d28-af7d-8e5c7b208368",
   "metadata": {},
   "source": [
    "Now we have a smaller dataset to work with containing quantities that we want for our analysis. We can do two more things before working with the data though.\n",
    "1. Rename the columns to make them more readable\n",
    "2. Remove missing data points"
   ]
  },
  {
   "cell_type": "code",
   "execution_count": null,
   "id": "97abc480-55c2-424a-a496-26b8d57f5d96",
   "metadata": {},
   "outputs": [],
   "source": [
    "new_cols = {\n",
    "    \"station\": \"Station ID\",\n",
    "    \"lon\": \"Longitude\",\n",
    "    \"lat\": \"Latitude\",\n",
    "    \"tmpf\": \"Temperature (deg F)\",\n",
    "    \"dwpf\": \"Dewpoint (deg F)\",\n",
    "    \"relh\": \"Relative Humidity (%)\",\n",
    "    \"drct\": \"Wind direction (deg)\",\n",
    "    \"gust\": \"Wind Gust (knot)\",\n",
    "    \"mslp\": \"Mean Sea Level Pressure (hPa)\",\n",
    "    \"p01i\": \"Precipitation 1-hour accumulation (inch)\",\n",
    "}\n",
    "df = df.rename(columns=new_cols)"
   ]
  },
  {
   "cell_type": "code",
   "execution_count": null,
   "id": "743b5af0-7e14-438c-9b2e-06884912b9c2",
   "metadata": {},
   "outputs": [],
   "source": [
    "df"
   ]
  },
  {
   "cell_type": "markdown",
   "id": "840e26b4-3afd-45b3-8405-ea5ff6996392",
   "metadata": {},
   "source": [
    "Now we have a dataframe that is readable and contains the data we care about. That took a bit of effort, but it will make the rest of our exploration and analysis easier. Let's remove the missing data points now."
   ]
  },
  {
   "cell_type": "code",
   "execution_count": null,
   "id": "2b631a51-f883-4a83-9a3d-807d643dbfae",
   "metadata": {},
   "outputs": [],
   "source": [
    "df = df.where(df != \"M\")"
   ]
  },
  {
   "cell_type": "code",
   "execution_count": null,
   "id": "fea103cd-3941-43ac-b3ae-46824d4dbbd5",
   "metadata": {},
   "outputs": [],
   "source": [
    "df"
   ]
  },
  {
   "cell_type": "markdown",
   "id": "2b8d744c-37e3-41da-a64e-92011bdb891c",
   "metadata": {},
   "source": [
    "Since we read the data from a text file, the columns were loaded as strings. We want numeric values for all columns except `\"Station ID\"`, so let's convert them to `float`."
   ]
  },
  {
   "cell_type": "code",
   "execution_count": null,
   "id": "959235c5-79de-4883-ab47-dff74a164b89",
   "metadata": {},
   "outputs": [],
   "source": [
    "numeric_columns = df.columns[1:]\n",
    "df[numeric_columns] = df.loc[:, df.columns[1:]].astype(float)"
   ]
  },
  {
   "cell_type": "code",
   "execution_count": null,
   "id": "4581cae3-db14-458d-8954-953ecf5f62bb",
   "metadata": {},
   "outputs": [],
   "source": [
    "df"
   ]
  },
  {
   "cell_type": "markdown",
   "id": "b203f835-c053-450b-a8c8-9c2951081437",
   "metadata": {},
   "source": [
    "[Return to top of notebook](#top-of-da)<br>\n",
    "[Return to top of section](#load-clean-data)\n",
    "***\n",
    "<a id=\"explore-data\"></a>\n",
    "\n",
    "# 2. Exploring your data\n",
    "\n",
    "Now that we have a clean and organized dataset, let's look at what it contains."
   ]
  },
  {
   "cell_type": "code",
   "execution_count": null,
   "id": "6610e9ac-5e39-47eb-bc82-6d1c45bbd839",
   "metadata": {},
   "outputs": [],
   "source": [
    "df.describe()"
   ]
  },
  {
   "cell_type": "markdown",
   "id": "d8be5364-78f1-4e91-96e0-ca774a23522c",
   "metadata": {},
   "source": [
    "<a id=\"exercise1-da\"></a>\n",
    "### Exercise 1\n",
    "\n",
    "1. Notice the `counts` for many of our columns are smaller than `\"Latitude\"` and `\"Longitude\"`. Why?\n",
    "2. Inspect the minimums and maximums for a varaible of your choice. Do you think these are reasonable values? Explain.\n",
    "3. Plot the variable you chose. Would you change your answer to the above question based on this plot?"
   ]
  },
  {
   "cell_type": "code",
   "execution_count": null,
   "id": "8ef3296a-3814-4750-8806-35bcadd31309",
   "metadata": {},
   "outputs": [],
   "source": [
    "# your code here"
   ]
  },
  {
   "cell_type": "markdown",
   "id": "d59ac803-ff66-4ec5-b947-217f107a69f7",
   "metadata": {},
   "source": [
    "***\n",
    "\n",
    "We can explore relationships between our variables with, for example, `.corr()`. By default, `.corr()` uses the Pearson correlation, but there are other built-in options if you desire another approach."
   ]
  },
  {
   "cell_type": "code",
   "execution_count": null,
   "id": "3b78aba1-67c2-43fd-9222-15ee5b003692",
   "metadata": {},
   "outputs": [],
   "source": [
    "df[numeric_columns].corr()"
   ]
  },
  {
   "cell_type": "markdown",
   "id": "b31efcc8-75d4-48bd-bf9a-1e06c88be07c",
   "metadata": {},
   "source": [
    "<a id=\"exercise2-da\"></a>\n",
    "### Exercise 2\n",
    "1. What does this tell us about our data?\n",
    "2. What do you notice about the correlations?"
   ]
  },
  {
   "cell_type": "code",
   "execution_count": null,
   "id": "a42f340f-19b0-4271-97cd-fba44e89d796",
   "metadata": {},
   "outputs": [],
   "source": [
    "# your code here"
   ]
  },
  {
   "cell_type": "markdown",
   "id": "e4289d90-5bdc-4f84-afea-e5ac7fe3b49f",
   "metadata": {},
   "source": [
    "***\n",
    "Let's subset the data to a single station."
   ]
  },
  {
   "cell_type": "code",
   "execution_count": null,
   "id": "c5730385-2abe-447c-af25-7d6e093412e6",
   "metadata": {},
   "outputs": [],
   "source": [
    "station_name = \"AWG\"\n",
    "station_data = df[df[\"Station ID\"] == station_name]"
   ]
  },
  {
   "cell_type": "code",
   "execution_count": null,
   "id": "10e6a88e-81de-44d1-982d-7cdefcec4ec8",
   "metadata": {},
   "outputs": [],
   "source": [
    "station_data.loc[:, \"Temperature (deg F)\"].plot()"
   ]
  },
  {
   "cell_type": "code",
   "execution_count": null,
   "id": "1791941a-f704-45bb-ba71-a0f9419f696d",
   "metadata": {},
   "outputs": [],
   "source": [
    "station_data.loc[:, [\"Temperature (deg F)\", \"Dewpoint (deg F)\"]].plot()"
   ]
  },
  {
   "cell_type": "code",
   "execution_count": null,
   "id": "1194b752-a915-4316-8b14-1d60440e751a",
   "metadata": {},
   "outputs": [],
   "source": [
    "ax = station_data.loc[:, [\"Temperature (deg F)\", \"Dewpoint (deg F)\"]].plot()\n",
    "station_data.loc[:, \"Relative Humidity (%)\"].plot(secondary_y=True)"
   ]
  },
  {
   "cell_type": "code",
   "execution_count": null,
   "id": "b58e89fa-6271-43be-8fbf-b0c1bf7a553b",
   "metadata": {},
   "outputs": [],
   "source": [
    "station_data.loc[:, numeric_columns].corr()"
   ]
  },
  {
   "cell_type": "markdown",
   "id": "a07de041-08c7-4506-a040-9e5f56a1e5be",
   "metadata": {},
   "source": [
    "<a id=\"exercise3-da\"></a>\n",
    "### Exercise 3\n",
    "1. What do the correlations tell us about the data from this single station?\n",
    "2. Why are some values NaN?"
   ]
  },
  {
   "cell_type": "code",
   "execution_count": null,
   "id": "111f933a-3782-44ad-abc3-77effabf246b",
   "metadata": {},
   "outputs": [],
   "source": [
    "# your code here"
   ]
  },
  {
   "cell_type": "markdown",
   "id": "e51cadc7-7fee-439b-b8f0-d50b4e19499e",
   "metadata": {},
   "source": [
    "[Return to top of notebook](#top-of-da)<br>\n",
    "[Return to top of section](#explore-data)\n",
    "***\n",
    "<a id=\"analyze-data\"></a>\n",
    "\n",
    "# 3. Analyzing your data\n",
    "\n",
    "Let's perform some simple analysis on our dataset. The temperature and dewpoint are in degree Fahrenheit, but perhaps we want the units to be celsius. Let's write a function that converts the units, then assigns those values to new columns."
   ]
  },
  {
   "cell_type": "code",
   "execution_count": null,
   "id": "86def56a-1aed-4e9d-9677-d812a0128697",
   "metadata": {},
   "outputs": [],
   "source": [
    "def fahrenheit_to_celsius(temperature):\n",
    "    return 5 / 9 * (temperature - 32)"
   ]
  },
  {
   "cell_type": "code",
   "execution_count": null,
   "id": "2bb135e0-44a8-4dca-a609-731fec748df4",
   "metadata": {},
   "outputs": [],
   "source": [
    "fahrenheit_to_celsius(station_data.loc[:, \"Temperature (deg F)\"])"
   ]
  },
  {
   "cell_type": "code",
   "execution_count": null,
   "id": "2deced69-f098-4cfb-ba4b-02df1f4703c5",
   "metadata": {},
   "outputs": [],
   "source": [
    "station_data = station_data.assign(\n",
    "    **{\n",
    "        \"Temperature (deg C)\": fahrenheit_to_celsius(station_data.loc[:, \"Temperature (deg F)\"])\n",
    "    }\n",
    ")"
   ]
  },
  {
   "cell_type": "code",
   "execution_count": null,
   "id": "78f3e226-2473-485a-83cf-5d46ec44c1dd",
   "metadata": {},
   "outputs": [],
   "source": [
    "station_data.columns"
   ]
  },
  {
   "cell_type": "code",
   "execution_count": null,
   "id": "c60fc106-972d-4a93-a011-b70ededa7f4a",
   "metadata": {},
   "outputs": [],
   "source": [
    "station_data.loc[:, \"Temperature (deg C)\"].plot()"
   ]
  },
  {
   "cell_type": "markdown",
   "id": "3a295511-8d6e-472f-98d8-95cf90053fe2",
   "metadata": {},
   "source": [
    "<a id=\"exercise4-da\"></a>\n",
    "### Exercise 4\n",
    "1. Convert dewpoint to degrees Celsius and assign it to a new column in `station_data`\n",
    "2. Plot temperature and dewpoint in degrees Celsius together"
   ]
  },
  {
   "cell_type": "code",
   "execution_count": null,
   "id": "dd78d0e5-1983-4784-b01e-88ae4c7f5515",
   "metadata": {},
   "outputs": [],
   "source": [
    "# your code here"
   ]
  },
  {
   "cell_type": "markdown",
   "id": "862cfe78-85e6-4ea8-8717-72dc645afaaa",
   "metadata": {},
   "source": [
    "<a id=\"exercise5-da\"></a>\n",
    "### Exercise 5\n",
    "1. Write a function to convert wind speed in knots to miles per hour. The conversion rate is 1 knot = 1.15 mph\n",
    "2. Assign a new column to `station_data` using your function to convert wind speed from knots to miles per hour\n",
    "3. Plot wind speed in miles per hour and wind direction on the same plot"
   ]
  },
  {
   "cell_type": "code",
   "execution_count": null,
   "id": "88ed2720-a748-40b7-8655-eda36158e068",
   "metadata": {},
   "outputs": [],
   "source": [
    "# your code here"
   ]
  },
  {
   "cell_type": "code",
   "execution_count": null,
   "id": "a11558bf-69e0-4242-825c-a1ed1327b5cf",
   "metadata": {},
   "outputs": [],
   "source": [
    "# your code here"
   ]
  },
  {
   "cell_type": "code",
   "execution_count": null,
   "id": "07c1645a-611f-41fe-86f1-c501228e3413",
   "metadata": {},
   "outputs": [],
   "source": [
    "# your code here"
   ]
  }
 ],
 "metadata": {
  "kernelspec": {
   "display_name": "Python 3 (ipykernel)",
   "language": "python",
   "name": "python3"
  },
  "language_info": {
   "codemirror_mode": {
    "name": "ipython",
    "version": 3
   },
   "file_extension": ".py",
   "mimetype": "text/x-python",
   "name": "python",
   "nbconvert_exporter": "python",
   "pygments_lexer": "ipython3",
   "version": "3.11.5"
  }
 },
 "nbformat": 4,
 "nbformat_minor": 5
}
