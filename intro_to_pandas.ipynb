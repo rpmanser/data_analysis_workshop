{
 "cells": [
  {
   "cell_type": "markdown",
   "id": "881f8365-a629-4037-a64b-50868bdd2d83",
   "metadata": {},
   "source": [
    "<a id=\"top-of-pd\"></a>\n",
    "\n",
    "<img src=\"http://www.kulturwirt.de/wp-content/uploads/2021/04/1920px-Pandas_logo.svg.png\" width=200/>\n",
    "\n",
    "# Pandas\n",
    "\n",
    "pandas is a Python library for loading and manipulating tabular data with labels (e.g., CSV, text, and Excel files). It provides many of the same operations as NumPy, with some extra tools for operating on time dimensions, cleaning up data, and creating plots.\n",
    "\n",
    "1. [Series](#series)\n",
    "2. [DataFrames](#dataframes)\n",
    "3. [Operating on Pandas objects](#operations)\n",
    "4. [Saving and loading data](#saving-loading)\n",
    "\n",
    "### Exercises\n",
    "\n",
    "[Exercise 1](#exercise1-pd)<br>\n",
    "[Exercise 2](#exercise2-pd)"
   ]
  },
  {
   "cell_type": "markdown",
   "id": "1884ceb0-1078-4a68-9fab-68e63a1d75f9",
   "metadata": {},
   "source": [
    "<a id=\"series\"></a>\n",
    "## 1. Series\n",
    "\n",
    "Series objects are labeled arrays. While NumPy provides access to array objects, it does not provide labels for the data points within the array. Series solve this issue by introducing an index to describe the data points."
   ]
  },
  {
   "cell_type": "code",
   "execution_count": null,
   "id": "9e1562c5-5cae-4d8d-8bb3-16648f3285d3",
   "metadata": {
    "tags": []
   },
   "outputs": [],
   "source": [
    "import matplotlib.pyplot as plt\n",
    "import numpy as np\n",
    "import pandas as pd"
   ]
  },
  {
   "cell_type": "code",
   "execution_count": null,
   "id": "b913d48b-a051-4e99-9cea-f217c4f94bc6",
   "metadata": {
    "tags": []
   },
   "outputs": [],
   "source": [
    "index = pd.date_range(\"2020-01-01 00:00\", \"2020-01-02 00:00\", freq=\"H\", name=\"Time\")\n",
    "data = np.sin(np.arange(0.0, index.size * 0.5, 0.5))\n",
    "\n",
    "series = pd.Series(data=data, index=index, name=\"sinx\")"
   ]
  },
  {
   "cell_type": "code",
   "execution_count": null,
   "id": "4a999b22-38ce-4942-ac11-477fc71f6ec9",
   "metadata": {
    "tags": []
   },
   "outputs": [],
   "source": [
    "series.index"
   ]
  },
  {
   "cell_type": "code",
   "execution_count": null,
   "id": "2211fb83-f7ac-4d6d-a680-898f847f7963",
   "metadata": {
    "tags": []
   },
   "outputs": [],
   "source": [
    "series.values"
   ]
  },
  {
   "cell_type": "code",
   "execution_count": null,
   "id": "7650277a-191f-4d05-8aa3-20a267365eb3",
   "metadata": {
    "tags": []
   },
   "outputs": [],
   "source": [
    "series"
   ]
  },
  {
   "cell_type": "code",
   "execution_count": null,
   "id": "12dc320b-95b7-4b59-bc63-dfdf34c38afb",
   "metadata": {
    "tags": []
   },
   "outputs": [],
   "source": [
    "series.iloc[2]"
   ]
  },
  {
   "cell_type": "code",
   "execution_count": null,
   "id": "e893d657-cacf-4311-9f36-777267596767",
   "metadata": {
    "tags": []
   },
   "outputs": [],
   "source": [
    "series.loc[\"2020-01-01 02:00:00\"]"
   ]
  },
  {
   "cell_type": "code",
   "execution_count": null,
   "id": "3d214242-c64a-4f69-81b1-957e4fcafe3e",
   "metadata": {
    "tags": []
   },
   "outputs": [],
   "source": [
    "ax = series.plot()\n",
    "ax.set_ylabel(series.name)"
   ]
  },
  {
   "cell_type": "code",
   "execution_count": null,
   "id": "486e26eb-c484-4851-a2d8-5ed400436f75",
   "metadata": {
    "tags": []
   },
   "outputs": [],
   "source": [
    "ax = series.plot()\n",
    "ax.set_ylabel(series.name)\n",
    "ax.grid()"
   ]
  },
  {
   "cell_type": "markdown",
   "id": "bc943eaf-116b-4604-ad64-4e99ded7db0e",
   "metadata": {},
   "source": [
    "[Return to top of notebook](#top-of-pd)<br>\n",
    "[Return to top of section](#series)\n",
    "\n",
    "<a id=\"dataframes\"></a>\n",
    "## 2. DataFrames\n",
    "\n",
    "DataFrames go one step further to provide a way to work with tabular data that has a common index. Now, instead of having an array with labels for each data point, we have multiple arrays with unique names and a common index, all of which describe our data."
   ]
  },
  {
   "cell_type": "code",
   "execution_count": null,
   "id": "a4d3ead7-9585-42ea-a45e-1fd590887809",
   "metadata": {
    "tags": []
   },
   "outputs": [],
   "source": [
    "index = pd.date_range(\"2020-01-01 00:00\", \"2020-01-02 00:00\", freq=\"H\", name=\"Time\")\n",
    "data = {\n",
    "    \"sinx\": np.sin(np.arange(0.0, index.size * 0.5, 0.5)),\n",
    "    \"cosx\": np.cos(np.arange(0.0, index.size * 0.5, 0.5)),\n",
    "}\n",
    "df = pd.DataFrame(data=data, index=index)"
   ]
  },
  {
   "cell_type": "code",
   "execution_count": null,
   "id": "8abb12c0-d563-4821-8e19-e49f8ce8e5c9",
   "metadata": {
    "tags": []
   },
   "outputs": [],
   "source": [
    "df.shape"
   ]
  },
  {
   "cell_type": "code",
   "execution_count": null,
   "id": "e80e3cdb-52c3-42ea-b538-89b5acca3063",
   "metadata": {
    "tags": []
   },
   "outputs": [],
   "source": [
    "df.index"
   ]
  },
  {
   "cell_type": "code",
   "execution_count": null,
   "id": "fc13879c-8eee-48fe-bd7b-47361cf9a531",
   "metadata": {
    "tags": []
   },
   "outputs": [],
   "source": [
    "df.columns"
   ]
  },
  {
   "cell_type": "code",
   "execution_count": null,
   "id": "3d5306c0-6e86-47f5-8227-2172c6ce2739",
   "metadata": {
    "tags": []
   },
   "outputs": [],
   "source": [
    "df"
   ]
  },
  {
   "cell_type": "code",
   "execution_count": null,
   "id": "e5d72247-d168-4869-b33a-e86dea991786",
   "metadata": {
    "tags": []
   },
   "outputs": [],
   "source": [
    "df.sinx"
   ]
  },
  {
   "cell_type": "code",
   "execution_count": null,
   "id": "f9b991af-2f47-46b8-83a1-9ad94287bc7f",
   "metadata": {
    "tags": []
   },
   "outputs": [],
   "source": [
    "df[\"sinx\"]"
   ]
  },
  {
   "cell_type": "code",
   "execution_count": null,
   "id": "2f6f6573-3255-4da1-9594-17eb701d1bb8",
   "metadata": {
    "tags": []
   },
   "outputs": [],
   "source": [
    "df[\"sinx\"].values"
   ]
  },
  {
   "cell_type": "code",
   "execution_count": null,
   "id": "1c871df2-4ee1-4caa-b70f-3c6b8021ff8c",
   "metadata": {
    "tags": []
   },
   "outputs": [],
   "source": [
    "df.iloc[12]"
   ]
  },
  {
   "cell_type": "code",
   "execution_count": null,
   "id": "fd97d52e-2bd7-48ff-965f-e06b0ead40af",
   "metadata": {
    "tags": []
   },
   "outputs": [],
   "source": [
    "df.loc[\"2020-01-01 12:00\"]"
   ]
  },
  {
   "cell_type": "code",
   "execution_count": null,
   "id": "a5552cb0-3960-4423-9495-d83990f85c73",
   "metadata": {
    "tags": []
   },
   "outputs": [],
   "source": [
    "fig, ax = plt.subplots(figsize=(8, 6))\n",
    "\n",
    "df.plot(ax=ax)\n",
    "ax.set_ylabel(\"y\")"
   ]
  },
  {
   "cell_type": "markdown",
   "id": "053ceb3c-8065-40af-9234-457958cdb125",
   "metadata": {},
   "source": [
    "<a id=\"exercise1-pd\"></a>\n",
    "\n",
    "### Exercise 1\n",
    "\n",
    "1. Plot `sinx` and `cosx` on the same axes over the time period 06:00 on 01 January 2020 to 18:00 on 01 January 2020."
   ]
  },
  {
   "cell_type": "code",
   "execution_count": null,
   "id": "50c9ef7e-ecb6-496b-8986-286c37ee0a0a",
   "metadata": {},
   "outputs": [],
   "source": [
    "# your code here"
   ]
  },
  {
   "cell_type": "markdown",
   "id": "3687cede-ee99-4422-8340-7bcff66c8466",
   "metadata": {},
   "source": [
    "[Return to top of notebook](#top-of-pd)<br>\n",
    "[Return to top of section](#dataframes)\n",
    "\n",
    "<a id=\"operations\"></a>\n",
    "## 3. Operating on Pandas objects\n",
    "\n",
    "If you're loading data with pandas, you're likely aiming to analyze that data in some way by performing operations. Let's take a look at how we can do that."
   ]
  },
  {
   "cell_type": "markdown",
   "id": "11f9f247-82d0-4232-af91-213da64390d3",
   "metadata": {},
   "source": [
    "Pandas series and dataframes contain arrays, so we can perform math on them in the same way that do math with NumPy arrays."
   ]
  },
  {
   "cell_type": "code",
   "execution_count": null,
   "id": "4eb91a72-019f-4cad-bbb6-bab2ff51d04f",
   "metadata": {},
   "outputs": [],
   "source": [
    "df[\"sinx\"] * 5.0"
   ]
  },
  {
   "cell_type": "markdown",
   "id": "9f0b4bb6-536e-4376-83f8-51c9df355726",
   "metadata": {},
   "source": [
    "Notice that the result is a `Series` object. We can operate on the result in the same way that we operated on our other series objects."
   ]
  },
  {
   "cell_type": "code",
   "execution_count": null,
   "id": "6f64fa1e-0559-4833-b38c-b148ecdeeee3",
   "metadata": {},
   "outputs": [],
   "source": [
    "(df[\"sinx\"] * 5.0).plot()"
   ]
  },
  {
   "cell_type": "markdown",
   "id": "ec25fca8-5f58-4328-896a-9bf852327cb9",
   "metadata": {},
   "source": [
    "We can also multiply columns in our dataframe and get a `Series` as a result."
   ]
  },
  {
   "cell_type": "code",
   "execution_count": null,
   "id": "8d8fa32c-b7f4-4c76-95c8-e74284aa3eaa",
   "metadata": {},
   "outputs": [],
   "source": [
    "df[\"sinx\"] * df[\"cosx\"]"
   ]
  },
  {
   "cell_type": "markdown",
   "id": "3ddc11f3-cb4c-4cd9-acd7-875d1be1b7af",
   "metadata": {},
   "source": [
    "We can also select columns and call methods to carry out some task."
   ]
  },
  {
   "cell_type": "code",
   "execution_count": null,
   "id": "8378276b-1202-4d6b-bf51-fa8c4814b473",
   "metadata": {},
   "outputs": [],
   "source": [
    "df[\"sinx\"].multiply(df[\"cosx\"])"
   ]
  },
  {
   "cell_type": "markdown",
   "id": "382616b5-c97e-4d95-98ac-39aa9bc71001",
   "metadata": {},
   "source": [
    "In the above cell, we performed the same multiply operation as with `*`, but using a dataframe method. The dataframe method provides some extra options to make our code more interpretable and flexible in more complex analyses."
   ]
  },
  {
   "cell_type": "markdown",
   "id": "713e08ad-00f6-46b8-8087-010885408536",
   "metadata": {},
   "source": [
    "If we want a new analysis, we can assign it to a new column. Before we do, let's create a new dataframe for the analysis, so our raw or observed data remains unmodified. Note that *this isn't always efficient*, as your dataset may be too large to fit into memory multiple times, but it's good practice to separate data from analyses."
   ]
  },
  {
   "cell_type": "code",
   "execution_count": null,
   "id": "e842fe0a-04b1-49ed-9dca-e606901035b6",
   "metadata": {},
   "outputs": [],
   "source": [
    "df_analysis = df.copy(deep=True)\n",
    "df_analysis[\"sinx*cosx\"] = df[\"sinx\"] * df[\"cosx\"]"
   ]
  },
  {
   "cell_type": "code",
   "execution_count": null,
   "id": "855661eb-7c35-435d-9097-795b2fef7a08",
   "metadata": {},
   "outputs": [],
   "source": [
    "df_analysis.plot()"
   ]
  },
  {
   "cell_type": "markdown",
   "id": "2e3092a9-d4b6-4225-b339-a23155b4ca7e",
   "metadata": {},
   "source": [
    "There are many ways to assign new values to a dataframe, including the assign method."
   ]
  },
  {
   "cell_type": "code",
   "execution_count": null,
   "id": "9d8ba2bf-934d-4b41-af58-c827bb9876a1",
   "metadata": {},
   "outputs": [],
   "source": [
    "df_analysis = df_analysis.drop(columns=[\"sinx*cosx\"])"
   ]
  },
  {
   "cell_type": "code",
   "execution_count": null,
   "id": "c5a82527-2fee-4e08-8be2-5aba71999c5e",
   "metadata": {},
   "outputs": [],
   "source": [
    "df_analysis = df_analysis.assign(**{\"sinx*cosx\": df_analysis[\"sinx\"] * df_analysis[\"cosx\"]})"
   ]
  },
  {
   "cell_type": "code",
   "execution_count": null,
   "id": "f73213fd-2fd2-4c06-a719-74dd6b3d4075",
   "metadata": {},
   "outputs": [],
   "source": [
    "df_analysis.plot()"
   ]
  },
  {
   "cell_type": "markdown",
   "id": "f6665654-f361-4cd1-9042-1d0df3328209",
   "metadata": {},
   "source": [
    "<a id=\"exercise2-pd\"></a>\n",
    "### Exercise 2\n",
    "\n",
    "1. Calculate `sinx - cosx` and `sinx + cosx` and assign them to columns in the `df_analysis` dataframe.\n",
    "2. Plot all of columns, including the original `sinx` and `cosx` columns."
   ]
  },
  {
   "cell_type": "code",
   "execution_count": null,
   "id": "ea1eaa48-d4be-462c-97da-673ed934795d",
   "metadata": {},
   "outputs": [],
   "source": [
    "# your code here"
   ]
  },
  {
   "cell_type": "markdown",
   "id": "019db15f-39f5-4fb6-8e16-94330dc2d374",
   "metadata": {},
   "source": [
    "[Return to top of notebook](#top-of-pd)<br>\n",
    "[Return to top of section](#operations)\n",
    "\n",
    "<a id=\"saving-loading\"></a>\n",
    "## 4. Saving and loading data\n",
    "\n",
    "Tabular data of many forms can be saved to disk and loaded from disk using pandas. Two common file formats are CSVs (comma separated values) and Microsoft Excel files."
   ]
  },
  {
   "cell_type": "code",
   "execution_count": null,
   "id": "77dbb6ae-7290-492e-95af-3ad85995df41",
   "metadata": {
    "tags": []
   },
   "outputs": [],
   "source": [
    "df.to_csv(\"data/my_data.csv\")"
   ]
  },
  {
   "cell_type": "code",
   "execution_count": null,
   "id": "679cfe89-0637-4de9-9613-86f1ec5f0fec",
   "metadata": {
    "tags": []
   },
   "outputs": [],
   "source": [
    "pd.read_csv(\"data/my_data.csv\", index_col=0, parse_dates=True)"
   ]
  },
  {
   "cell_type": "code",
   "execution_count": null,
   "id": "493d5f8f-f17c-4135-9421-57d420666993",
   "metadata": {
    "tags": []
   },
   "outputs": [],
   "source": [
    "df.to_excel(\"data/my_data.xlsx\")"
   ]
  },
  {
   "cell_type": "code",
   "execution_count": null,
   "id": "5bc2233d-8618-47ab-9332-620efb19bc12",
   "metadata": {
    "tags": []
   },
   "outputs": [],
   "source": [
    "pd.read_excel(\"data/my_data.xlsx\", index_col=0, parse_dates=True)"
   ]
  },
  {
   "cell_type": "markdown",
   "id": "612d01f2-8cc4-4a9d-ae82-7f4d9f7cb15c",
   "metadata": {},
   "source": [
    "[Return to top of notebook](#top-of-pd)<br>\n",
    "[Return to top of section](#saving-loading)"
   ]
  },
  {
   "cell_type": "code",
   "execution_count": null,
   "id": "f49580a4-b3eb-4092-a7db-c500719e5e95",
   "metadata": {},
   "outputs": [],
   "source": []
  }
 ],
 "metadata": {
  "kernelspec": {
   "display_name": "Python 3 (ipykernel)",
   "language": "python",
   "name": "python3"
  },
  "language_info": {
   "codemirror_mode": {
    "name": "ipython",
    "version": 3
   },
   "file_extension": ".py",
   "mimetype": "text/x-python",
   "name": "python",
   "nbconvert_exporter": "python",
   "pygments_lexer": "ipython3",
   "version": "3.11.5"
  }
 },
 "nbformat": 4,
 "nbformat_minor": 5
}
