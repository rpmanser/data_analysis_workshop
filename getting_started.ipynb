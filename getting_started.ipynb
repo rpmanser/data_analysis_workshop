{
 "cells": [
  {
   "cell_type": "markdown",
   "id": "e3820f1d-dc13-4bd1-8e95-cd4fbc5b8495",
   "metadata": {},
   "source": [
    "<a id=\"top-of-gs\"></a>\n",
    "# Data Analysis Workshop\n",
    "\n",
    "Welcome to the Data Analysis Workshop! These notebooks are targeted toward a beginner to intermediate audience who is interested in using Python and open-source libraries to analyze data. There are four notebooks that will be presented in the following order and will contain these topics:\n",
    "\n",
    "1. **[Introduction to Python](intro_to_python.ipynb)** - An introduction to Python that assumes no prior programming experience. Specifically, a discussion of data types, data structures, and control flow.\n",
    "1. **[NumPy and Matplotlib](numpy_and_matplotlib.ipynb)** - An introduction to NumPy and Matplotlib, two essential libraries in the Python data science ecosystem. NumPy provides arrays that most numerical data is stored in, as well as functions and methods for operating on those arrays. Matplotlib provides tools for plotting/visualizing data.\n",
    "1. **[Pandas](intro_to_pandas.ipynb)** - An introduction to Pandas, a library for working with tabular data. For example, pandas can open and operate on text, CSV, and Excel files. But Pandas goes much deeper than opening files by providing functionality to transform and analyze data.\n",
    "1. **[Data Analysis](data_analysis.ipynb)** - A demonstration of working with real data that integrates the topics presented in the previous three notebooks.\n",
    "\n",
    "Clicking on each of the above links will open the notebook containing the described content. Additionally, there are links within the notebooks that will jump to sections and the top of the notebook. Each notebook will have an outline of topics that are covered within and links to each topic and related exercise.\n",
    "\n",
    "Try clicking on the following link to jump to our next section: [Jupyter Lab Environment](#jupyter-commands)."
   ]
  },
  {
   "cell_type": "markdown",
   "id": "124a2273-53f0-4377-a770-a43868d9e36a",
   "metadata": {},
   "source": [
    "***\n",
    "<a id=\"jupyter-commands\"></a>\n",
    "## Jupyter Lab Environment\n",
    "\n",
    "Jupyter notebooks provide an interactive environment for running Python code (other languages are supported too). There are many keyboard shortcuts that can be used to navigate this environment, but the following are most likely to be useful:\n",
    "\n",
    "### Command mode\n",
    "\n",
    "Press `Esc` to enter command mode\n",
    "\n",
    "* `Up/Down` navigate cells\n",
    "* `A` insert cell above\n",
    "* `B` insert cell below\n",
    "* `Shift+Enter` run cell\n",
    "* `M` switch to markdown input\n",
    "* `Y` switch to code input\n",
    "* `D,D` delete cell\n",
    "* `Z` undo\n",
    "* `CTRL+S` save notebook\n",
    "\n",
    "### Edit mode\n",
    "\n",
    "Press `Enter` to enter edit mode\n",
    "\n",
    "* `Shift+Enter` run cell\n",
    "* `Tab` auto complete a variable or module name\n",
    "* `CTRL+A` select all\n",
    "* `CTRL+Z` undo\n",
    "* `CTRL+Y` redo\n",
    "* `CTRL+S` save notebook\n",
    "\n",
    "\n",
    "A more complete set of commands can be found in this [cheatsheet](https://cheatography.com/weidadeyue/cheat-sheets/jupyter-notebook/)."
   ]
  },
  {
   "cell_type": "markdown",
   "id": "0931f957-5148-4b66-b8bf-cc04e9d0c0d7",
   "metadata": {},
   "source": [
    "<a id=\"exercise1-gs\"></a>\n",
    "### Exercise 1\n",
    "1. Enter command mode, then insert a cell below this one.\n",
    "2. Enter edit mode and type the following code into the cell that appears:\n",
    "\n",
    "`print(\"Hello world!\")`\n",
    "\n",
    "3. Finally, run the cell."
   ]
  },
  {
   "cell_type": "code",
   "execution_count": null,
   "id": "8a31a803-51e6-4dd6-8b0f-b5a17037a122",
   "metadata": {},
   "outputs": [],
   "source": [
    "# your code here"
   ]
  },
  {
   "cell_type": "markdown",
   "id": "17fb2c7a-eec7-4415-bac3-d4cfb1044eec",
   "metadata": {},
   "source": [
    "***\n",
    "<a id=\"navigation\"></a>\n",
    "## Navigating the notebooks\n",
    "\n",
    "The notebooks within this repository have links to the exercises and headings for each section. Click on the blue underlined links to jump to a section, exercise, or the top of the notebook.\n",
    "\n",
    "[Return to top of notebook](#top-of-gs)<br>\n",
    "[Return to top of section](#navigation)<br>\n",
    "[Jupyer Lab Environment](#jupyter-commands)<br>\n",
    "[Exercise 1](#exercise1-gs)"
   ]
  },
  {
   "cell_type": "code",
   "execution_count": null,
   "id": "e02a8ce2-979f-41bc-af61-6df2f8e43c28",
   "metadata": {},
   "outputs": [],
   "source": []
  }
 ],
 "metadata": {
  "kernelspec": {
   "display_name": "Python 3 (ipykernel)",
   "language": "python",
   "name": "python3"
  },
  "language_info": {
   "codemirror_mode": {
    "name": "ipython",
    "version": 3
   },
   "file_extension": ".py",
   "mimetype": "text/x-python",
   "name": "python",
   "nbconvert_exporter": "python",
   "pygments_lexer": "ipython3",
   "version": "3.11.5"
  }
 },
 "nbformat": 4,
 "nbformat_minor": 5
}
